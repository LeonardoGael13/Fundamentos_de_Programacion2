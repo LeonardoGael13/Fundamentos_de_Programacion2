{
  "metadata": {
    "kernelspec": {
      "name": "xpython",
      "display_name": "Python 3.13 (XPython)",
      "language": "python"
    },
    "language_info": {
      "file_extension": ".py",
      "mimetype": "text/x-python",
      "name": "python",
      "version": "3.13.1"
    }
  },
  "nbformat_minor": 5,
  "nbformat": 4,
  "cells": [
    {
      "id": "8be750c2-fb1c-4d62-b0c8-3a9a1171673b",
      "cell_type": "code",
      "source": "for i in range (1,5):\n    print (\"Número\",i)",
      "metadata": {
        "trusted": true
      },
      "outputs": [
        {
          "name": "stdout",
          "output_type": "stream",
          "text": "Número 1\nNúmero 2\nNúmero 3\nNúmero 4\n"
        }
      ],
      "execution_count": 18
    },
    {
      "id": "f437feda-b58f-4363-80d5-3ec29887c392",
      "cell_type": "code",
      "source": "suma = 0\n\nfor i in range(1, 11):\n    suma += i\n\nprint(\"La suma de los primeros 10 números es:\", suma)",
      "metadata": {
        "trusted": true
      },
      "outputs": [
        {
          "name": "stdout",
          "output_type": "stream",
          "text": "La suma de los primeros 10 números es: 55\n"
        }
      ],
      "execution_count": 17
    },
    {
      "id": "8a7a7e9b-1b62-4910-8c1b-6400c8b9b31b",
      "cell_type": "code",
      "source": "nombres = [\"Ed\", \"Jorge\", \"María\", \"Luisa\"]\n\nfor nombre in nombres:\n    print(\"Hola,\", nombre)",
      "metadata": {
        "trusted": true
      },
      "outputs": [
        {
          "name": "stdout",
          "output_type": "stream",
          "text": "Hola, Ed\nHola, Jorge\nHola, María\nHola, Luisa\n"
        }
      ],
      "execution_count": 16
    },
    {
      "id": "f0d96df0-9804-4faa-b890-355446daf7ef",
      "cell_type": "code",
      "source": "Cumple = int(input(\"¿Cuál es tu edad?\"))\nfor i in range(1, Cumple):\n    print(\"Feliz cumpleaños número\",i)",
      "metadata": {
        "trusted": true
      },
      "outputs": [
        {
          "output_type": "stream",
          "name": "stdin",
          "text": "¿Cuál es tu edad? 3\n"
        },
        {
          "name": "stdout",
          "output_type": "stream",
          "text": "Feliz cumpleaños número 1\nFeliz cumpleaños número 2\n"
        }
      ],
      "execution_count": 15
    },
    {
      "id": "de71f846-0124-492d-a0f6-32c2e19e4469",
      "cell_type": "code",
      "source": "#Hacer que con un input se agregue la opcion\nopcion = int (input(\"Escoge una Opcion\"))\nif opcion == 1:\n    print(\"Has elegido guardar el archivo\")\nelif opcion == 2:\n    print(\"Has elegido abrir un archivo\")\nelif opcion == 3:\n    print(\"Has elegido salir del programa\")\nelse:\n    print(\"Opción no válida\")",
      "metadata": {
        "trusted": true
      },
      "outputs": [
        {
          "output_type": "stream",
          "name": "stdin",
          "text": "Escoge una Opcion 3\n"
        },
        {
          "name": "stdout",
          "output_type": "stream",
          "text": "Has elegido salir del programa\n"
        }
      ],
      "execution_count": 14
    },
    {
      "id": "5e5496c5-3c0c-45c4-9fbf-324c5b9b6058",
      "cell_type": "code",
      "source": "#Hacer que con un input se agregue la calificación\ncalificacion = int (input(\"Ingresa la Calificacion\"))\n\nif calificacion >= 90:\n    print(\"Excelente\")\nelif calificacion >= 70:\n    print(\"Aprobado\")\nelse:\n    print(\"Reprobado\")",
      "metadata": {
        "trusted": true
      },
      "outputs": [
        {
          "output_type": "stream",
          "name": "stdin",
          "text": "Ingresa la Calificacion 100\n"
        },
        {
          "name": "stdout",
          "output_type": "stream",
          "text": "Excelente\n"
        }
      ],
      "execution_count": 26
    },
    {
      "id": "126322db-6961-4dc7-a267-223069cba891",
      "cell_type": "code",
      "source": "numero_secreto = 7\nadivinanza = 0\n\nwhile adivinanza != numero_secreto:\n    adivinanza = int(input(\"Adivina el número (1-10): \"))\n\nprint(\"¡Correcto! El número era\", numero_secreto)",
      "metadata": {
        "trusted": true
      },
      "outputs": [
        {
          "output_type": "stream",
          "name": "stdin",
          "text": "Adivina el número (1-10):  3\nAdivina el número (1-10):  7\n"
        },
        {
          "name": "stdout",
          "output_type": "stream",
          "text": "¡Correcto! El número era 7\n"
        }
      ],
      "execution_count": 19
    },
    {
      "id": "748a5c57-d822-4026-bbc6-fc5bd9aab0e8",
      "cell_type": "code",
      "source": "contador = 1\n\nwhile contador <= 5:\n    print(\"Número:\", contador)\n    contador += 1  # incrementa el contador",
      "metadata": {
        "trusted": true
      },
      "outputs": [
        {
          "name": "stdout",
          "output_type": "stream",
          "text": "Número: 1\nNúmero: 2\nNúmero: 3\nNúmero: 4\nNúmero: 5\n"
        }
      ],
      "execution_count": 12
    }
  ]
}